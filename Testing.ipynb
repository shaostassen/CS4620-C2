{
 "cells": [
  {
   "cell_type": "markdown",
   "id": "be513154-d912-4a3d-bbfa-931d7658bdbe",
   "metadata": {},
   "source": [
    "## Testing Your Ray Tracer\n",
    "See the [assignment docs](https://www.cs.cornell.edu/courses/cs4620/2024fa/assignments/docs/category/assignment-4) for details on our recommended path to completing the assignment.\n",
    "\n",
    "This notebook may prove useful for testing out your ray tracer."
   ]
  },
  {
   "cell_type": "code",
   "execution_count": null,
   "id": "a6d1f6e6",
   "metadata": {},
   "outputs": [],
   "source": [
    "from ExampleSceneDef import *"
   ]
  },
  {
   "cell_type": "markdown",
   "id": "9c95e9a5",
   "metadata": {},
   "source": [
    "### Step 0\n",
    "When you have completed Step 0 your the image below should look like:\n",
    "![Step0](./ref/step0.png)"
   ]
  },
  {
   "cell_type": "code",
   "execution_count": null,
   "id": "a98a17ae",
   "metadata": {},
   "outputs": [],
   "source": [
    "im = OrthoFriendlyExample().render()\n",
    "im.show()\n",
    "# im.writeToFile(\"OrthoFriendlyExample.png\")\n",
    "ref = Image(path=\"./ref/step0.png\").GetFloatCopy();\n",
    "ref.show()\n",
    "print(\"Max diff with reference is {}\".format(np.abs(ref.pixels-im.pixels).max()))\n",
    "print(\"number of pixels with diff > 0.01 is {}\".format(np.sum(np.abs(ref.pixels-im.pixels)>0.01)))"
   ]
  },
  {
   "cell_type": "code",
   "execution_count": null,
   "id": "6955ddb5",
   "metadata": {},
   "outputs": [],
   "source": []
  },
  {
   "cell_type": "markdown",
   "id": "71215446",
   "metadata": {},
   "source": [
    "### Step 1\n",
    "When you have completed Step 0 your the image below should look like:\n",
    "![Step1](./ref/step1.png)"
   ]
  },
  {
   "cell_type": "code",
   "execution_count": null,
   "id": "ae1211ee",
   "metadata": {},
   "outputs": [],
   "source": [
    "im = TwoSpheresExample().render(output_shape = [144,256])\n",
    "im.show()\n",
    "\n",
    "ref = Image(path=\"./ref/step1.png\").GetUIntCopy();\n",
    "ref.show()\n",
    "print(\"Max diff with reference is {}\".format(np.abs(ref.pixels-im.pixels).max()))\n",
    "print(\"number of pixels with diff > 0.01 is {}\".format(np.sum(np.abs(ref.pixels-im.pixels)>0.01)))"
   ]
  },
  {
   "cell_type": "code",
   "execution_count": null,
   "id": "32b21532",
   "metadata": {},
   "outputs": [],
   "source": []
  },
  {
   "cell_type": "markdown",
   "id": "4897cd3c",
   "metadata": {},
   "source": [
    "### Step 2-7\n",
    "See the [assignment docs](https://www.cs.cornell.edu/courses/cs4620/2023fa/assignments/docs/category/assignment-4)\n",
    "\n",
    "The code in the three cells below can be used to test out each of three different test scenes "
   ]
  },
  {
   "cell_type": "code",
   "execution_count": null,
   "id": "c18eddda",
   "metadata": {},
   "outputs": [],
   "source": [
    "im = TwoSpheresExample().render(output_shape = [144,256])\n",
    "im.show()"
   ]
  },
  {
   "cell_type": "code",
   "execution_count": null,
   "id": "5bb41022",
   "metadata": {},
   "outputs": [],
   "source": [
    "from ExampleSceneDef import *\n",
    "im = ThreeSpheresExample().render(output_shape = [144,256])\n",
    "im.show()"
   ]
  },
  {
   "cell_type": "code",
   "execution_count": null,
   "id": "6a726bb7",
   "metadata": {},
   "outputs": [],
   "source": [
    "im = CubeExample().render( output_shape = [5*144,5*256])\n",
    "im.show()"
   ]
  },
  {
   "cell_type": "code",
   "execution_count": null,
   "id": "3c83dbad",
   "metadata": {},
   "outputs": [],
   "source": [
    "from ExampleSceneDef import *\n",
    "sc = 2\n",
    "im = CornellBoxExample().render( output_shape = [int(sc*144),int(sc*256)])\n",
    "im.show()"
   ]
  },
  {
   "cell_type": "code",
   "execution_count": null,
   "id": "2ff6969f",
   "metadata": {},
   "outputs": [],
   "source": [
    "im.writeToFile(\"BoxExample.png\")\n",
    "# import matplotlib.pyplot as plt\n",
    "# plt.figure(dpi=200)\n",
    "# plt.imshow(im.pixels)"
   ]
  },
  {
   "cell_type": "code",
   "execution_count": null,
   "id": "ad42a081",
   "metadata": {},
   "outputs": [],
   "source": [
    "from ExampleSceneDef import *\n",
    "sc = 1\n",
    "im = LebronJamesExample().render(output_shape = [int(sc*128),int(sc*128)])\n",
    "im.show()"
   ]
  },
  {
   "cell_type": "code",
   "execution_count": null,
   "id": "285638d7",
   "metadata": {},
   "outputs": [],
   "source": [
    "im.writeToFile(\"LebronJamesExample2.png\")"
   ]
  },
  {
   "cell_type": "code",
   "execution_count": null,
   "id": "d0d32be1",
   "metadata": {},
   "outputs": [],
   "source": [
    "from ExampleSceneDef import *\n",
    "sc = 1\n",
    "im = LebronCrownExample().render(output_shape = [int(sc*128),int(sc*128)])\n",
    "im.show()"
   ]
  },
  {
   "cell_type": "code",
   "execution_count": null,
   "id": "2023635f",
   "metadata": {},
   "outputs": [],
   "source": [
    "from ExampleSceneDef import *\n",
    "sc = 1\n",
    "im = CrownExample().render(output_shape = [int(sc*128),int(sc*128)])\n",
    "im.show()"
   ]
  },
  {
   "cell_type": "code",
   "execution_count": null,
   "id": "276a5c1c",
   "metadata": {},
   "outputs": [],
   "source": [
    "im.writeToFile(\"CrownExample.png\")"
   ]
  },
  {
   "cell_type": "code",
   "execution_count": null,
   "id": "61eff8f1",
   "metadata": {},
   "outputs": [],
   "source": [
    "from ExampleSceneDef import *\n",
    "sc = 1\n",
    "im = LebronCrownExample().render(output_shape = [int(sc*128),int(sc*128)])\n",
    "im.show()"
   ]
  },
  {
   "cell_type": "code",
   "execution_count": null,
   "id": "0e39e2dc",
   "metadata": {},
   "outputs": [],
   "source": [
    "from ExampleSceneDef import *\n",
    "sc = 1\n",
    "im = GemExample ().render(output_shape = [int(sc*128),int(sc*128)])\n",
    "im.show()"
   ]
  },
  {
   "cell_type": "code",
   "execution_count": null,
   "id": "ff80afdf",
   "metadata": {},
   "outputs": [],
   "source": [
    "im.writeToFile(\"GemExample.png\")"
   ]
  },
  {
   "cell_type": "code",
   "execution_count": null,
   "id": "749a4c50",
   "metadata": {},
   "outputs": [],
   "source": [
    "from ExampleSceneDef import *\n",
    "sc = 1\n",
    "im = LebronCrownExample().render(output_shape = [int(sc*128),int(sc*128)])\n",
    "im.show()"
   ]
  },
  {
   "cell_type": "code",
   "execution_count": null,
   "id": "3f51f505",
   "metadata": {},
   "outputs": [],
   "source": [
    "from ExampleSceneDef import *\n",
    "sc = 1\n",
    "im = GlassExample().render(output_shape = [int(sc*128),int(sc*128)])\n",
    "im.show()"
   ]
  },
  {
   "cell_type": "code",
   "execution_count": 2,
   "id": "4b9428b1",
   "metadata": {},
   "outputs": [],
   "source": [
    "im.writeToFile(\"GlassExample.png\")"
   ]
  },
  {
   "cell_type": "code",
   "execution_count": 1,
   "id": "45d69f9b",
   "metadata": {},
   "outputs": [
    {
     "data": {
      "image/png": "[encoded data removed]",
      "text/plain": [
       "<Figure size 640x480 with 1 Axes>"
      ]
     },
     "metadata": {},
     "output_type": "display_data"
    }
   ],
   "source": [
    "from ExampleSceneDef import *\n",
    "sc = 1\n",
    "im = CSGExample().render(output_shape = [int(sc*144),int(sc*256)])\n",
    "im.show()"
   ]
  },
  {
   "cell_type": "code",
   "execution_count": 3,
   "id": "75fab232",
   "metadata": {},
   "outputs": [],
   "source": [
    "im.writeToFile(\"LebronCrownExample5.png\")"
   ]
  }
 ],
 "metadata": {
  "kernelspec": {
   "display_name": "venv",
   "language": "python",
   "name": "python3"
  },
  "language_info": {
   "codemirror_mode": {
    "name": "ipython",
    "version": 3
   },
   "file_extension": ".py",
   "mimetype": "text/x-python",
   "name": "python",
   "nbconvert_exporter": "python",
   "pygments_lexer": "ipython3",
   "version": "3.10.12"
  }
 },
 "nbformat": 4,
 "nbformat_minor": 5
}
