{
 "cells": [
  {
   "cell_type": "markdown",
   "id": "be513154-d912-4a3d-bbfa-931d7658bdbe",
   "metadata": {},
   "source": [
    "## Testing Your Ray Tracer\n",
    "See the [assignment docs](https://www.cs.cornell.edu/courses/cs4620/2024fa/assignments/docs/category/assignment-4) for details on our recommended path to completing the assignment.\n",
    "\n",
    "This notebook may prove useful for testing out your ray tracer."
   ]
  },
  {
   "cell_type": "code",
   "execution_count": 3,
   "id": "a6d1f6e6",
   "metadata": {},
   "outputs": [],
   "source": [
    "from ExampleSceneDef import *"
   ]
  },
  {
   "cell_type": "markdown",
   "id": "9c95e9a5",
   "metadata": {},
   "source": [
    "### Step 0\n",
    "When you have completed Step 0 your the image below should look like:\n",
    "![Step0](./ref/step0.png)"
   ]
  },
  {
   "cell_type": "code",
   "execution_count": 4,
   "id": "a98a17ae",
   "metadata": {},
   "outputs": [
    {
     "name": "stdout",
     "output_type": "stream",
     "text": [
      "Max diff with reference is 188.0\n",
      "number of pixels with diff > 0.01 is 49152\n"
     ]
    },
    {
     "data": {
      "text/plain": [
       "<Figure size 432x288 with 1 Axes>"
      ]
     },
     "metadata": {
      "needs_background": "light"
     },
     "output_type": "display_data"
    },
    {
     "data": {
      "image/png": "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",
      "text/plain": [
       "<Figure size 432x288 with 1 Axes>"
      ]
     },
     "metadata": {
      "needs_background": "light"
     },
     "output_type": "display_data"
    }
   ],
   "source": [
    "im = OrthoFriendlyExample().render()\n",
    "im.show()\n",
    "# im.writeToFile(\"OrthoFriendlyExample.png\")\n",
    "ref = Image(path=\"./ref/step0.png\").GetFloatCopy();\n",
    "ref.show()\n",
    "print(\"Max diff with reference is {}\".format(np.abs(ref.pixels-im.pixels).max()))\n",
    "print(\"number of pixels with diff > 0.01 is {}\".format(np.sum(np.abs(ref.pixels-im.pixels)>0.01)))"
   ]
  },
  {
   "cell_type": "code",
   "execution_count": null,
   "id": "6955ddb5",
   "metadata": {},
   "outputs": [],
   "source": []
  },
  {
   "cell_type": "markdown",
   "id": "71215446",
   "metadata": {},
   "source": [
    "### Step 1\n",
    "When you have completed Step 0 your the image below should look like:\n",
    "![Step1](./ref/step1.png)"
   ]
  },
  {
   "cell_type": "code",
   "execution_count": null,
   "id": "ae1211ee",
   "metadata": {},
   "outputs": [],
   "source": [
    "im = TwoSpheresExample().render(output_shape = [144,256])\n",
    "im.show()\n",
    "\n",
    "ref = Image(path=\"./ref/step1.png\").GetUIntCopy();\n",
    "ref.show()\n",
    "print(\"Max diff with reference is {}\".format(np.abs(ref.pixels-im.pixels).max()))\n",
    "print(\"number of pixels with diff > 0.01 is {}\".format(np.sum(np.abs(ref.pixels-im.pixels)>0.01)))"
   ]
  },
  {
   "cell_type": "code",
   "execution_count": null,
   "id": "32b21532",
   "metadata": {},
   "outputs": [],
   "source": []
  },
  {
   "cell_type": "markdown",
   "id": "4897cd3c",
   "metadata": {},
   "source": [
    "### Step 2-7\n",
    "See the [assignment docs](https://www.cs.cornell.edu/courses/cs4620/2023fa/assignments/docs/category/assignment-4)\n",
    "\n",
    "The code in the three cells below can be used to test out each of three different test scenes "
   ]
  },
  {
   "cell_type": "code",
   "execution_count": null,
   "id": "c18eddda",
   "metadata": {},
   "outputs": [],
   "source": [
    "im = TwoSpheresExample().render(output_shape = [144,256])\n",
    "im.show()"
   ]
  },
  {
   "cell_type": "code",
   "execution_count": null,
   "id": "5bb41022",
   "metadata": {},
   "outputs": [],
   "source": [
    "im = ThreeSpheresExample().render(output_shape = [144,256])\n",
    "im.show()"
   ]
  },
  {
   "cell_type": "code",
   "execution_count": null,
   "id": "6a726bb7",
   "metadata": {},
   "outputs": [
    {
     "data": {
      "text/plain": [
       "<Figure size 432x288 with 1 Axes>"
      ]
     },
     "metadata": {
      "needs_background": "light"
     },
     "output_type": "display_data"
    }
   ],
   "source": [
    "im = CubeExample().render( output_shape = [5*144,5*256])\n",
    "im.show()"
   ]
  },
  {
   "cell_type": "code",
   "execution_count": null,
   "id": "5bb41022",
   "metadata": {},
   "outputs": [],
   "source": [
    "from ExampleSceneDef import *\n",
    "sc = 2\n",
    "im = CornellBoxExample().render( output_shape = [int(sc*144),int(sc*256)])\n",
    "im.show()"
   ]
  },
  {
   "cell_type": "code",
   "execution_count": null,
   "id": "2ff6969f",
   "metadata": {},
   "outputs": [],
   "source": [
    "im.writeToFile(\"BoxExample.png\")\n",
    "# import matplotlib.pyplot as plt\n",
    "# plt.figure(dpi=200)\n",
    "# plt.imshow(im.pixels)"
   ]
  },
  {
   "cell_type": "code",
   "execution_count": 1,
   "id": "ad42a081",
   "metadata": {},
   "outputs": [],
   "source": [
    "from ExampleSceneDef import *\n",
    "im = CubeExample().render(output_shape=[144,256])\n",
    "im.show()"
   ]
  },
  {
   "cell_type": "code",
   "execution_count": null,
   "id": "47a135f0",
   "metadata": {},
   "outputs": [],
   "source": [
    "from ExampleSceneDef import *\n",
    "im = CornellBoxExample().render()\n",
    "im.show()"
   ]
  },
  {
   "cell_type": "code",
   "execution_count": null,
   "id": "4c655164",
   "metadata": {},
   "outputs": [],
   "source": [
    "import matplotlib.pyplot as plt\n",
    "from mpl_toolkits.mplot3d.art3d import Poly3DCollection\n",
    "\n",
    "def parse_obj(file_path):\n",
    "    vertices = []\n",
    "    faces = []\n",
    "    face_materials = []\n",
    "    current_material = None\n",
    "\n",
    "    with open(file_path, 'r') as file:\n",
    "        for line in file:\n",
    "            parts = line.strip().split()\n",
    "            if not parts:\n",
    "                continue\n",
    "            if parts[0] == 'v':  # Vertex\n",
    "                vertices.append([float(p) for p in parts[1:]])\n",
    "            elif parts[0] == 'f':  # Face\n",
    "                face = [int(p.split('/')[0]) - 1 for p in parts[1:]]\n",
    "                faces.append(face)\n",
    "                face_materials.append(current_material)\n",
    "            elif parts[0] == 'usemtl':  # Material usage\n",
    "                current_material = parts[1]\n",
    "\n",
    "    return vertices, faces, face_materials\n",
    "\n",
    "def parse_mtl(file_path):\n",
    "    materials = {}\n",
    "    current_material = None\n",
    "\n",
    "    with open(file_path, 'r') as file:\n",
    "        for line in file:\n",
    "            parts = line.strip().split()\n",
    "            if not parts:\n",
    "                continue\n",
    "            if parts[0] == 'newmtl':  # New material\n",
    "                current_material = parts[1]\n",
    "                materials[current_material] = {}\n",
    "            elif parts[0] == 'Kd':  # Diffuse color\n",
    "                if current_material:\n",
    "                    materials[current_material]['Kd'] = [float(c) for c in parts[1:]]\n",
    "\n",
    "    return materials\n",
    "\n",
    "def render_obj(vertices, faces, face_materials, materials):\n",
    "    fig = plt.figure()\n",
    "    ax = fig.add_subplot(111, projection='3d')\n",
    "\n",
    "    for face, material in zip(faces, face_materials):\n",
    "        color = materials.get(material, {}).get('Kd', [0.5, 0.5, 0.5])  # Default to gray if material is missing\n",
    "        poly3d = [[vertices[vert_id] for vert_id in face]]\n",
    "        ax.add_collection3d(Poly3DCollection(poly3d, facecolors=[color], linewidths=1, edgecolors='r', alpha=0.7))\n",
    "\n",
    "    # Set limits and labels\n",
    "    x, y, z = zip(*vertices)\n",
    "    ax.set_xlim([min(x), max(x)])\n",
    "    ax.set_ylim([min(y), max(y)])\n",
    "    ax.set_zlim([min(z), max(z)])\n",
    "    ax.set_xlabel('X-axis')\n",
    "    ax.set_ylabel('Y-axis')\n",
    "    ax.set_zlabel('Z-axis')\n",
    "\n",
    "    plt.show()\n",
    "\n",
    "# File paths\n",
    "obj_file = \"rubiks_cube.obj\"\n",
    "mtl_file = \"rubiks_cube.mtl\"\n",
    "\n",
    "# Parse files\n",
    "materials = parse_mtl(mtl_file)\n",
    "vertices, faces, face_materials = parse_obj(obj_file)\n",
    "\n",
    "# Render with materials\n",
    "render_obj(vertices, faces, face_materials, materials)"
   ]
  },
  {
   "cell_type": "code",
   "execution_count": null,
   "id": "558c2141",
   "metadata": {},
   "outputs": [],
   "source": [
    "from ExampleSceneDef import *\n",
    "im = RubiksCubeExample().render()\n",
    "im.show()\n"
   ]
  },
  {
   "cell_type": "code",
   "execution_count": 2,
   "id": "be396a44",
   "metadata": {},
   "outputs": [],
   "source": [
    "im.writeToFile(\"RubiksCubeExample.png\")"
   ]
  },
  {
   "cell_type": "code",
   "execution_count": null,
   "id": "875e3053",
   "metadata": {},
   "outputs": [],
   "source": []
  },
  {
   "cell_type": "code",
   "execution_count": null,
   "id": "9c039efa",
   "metadata": {},
   "outputs": [],
   "source": [
    "from ExampleSceneDef import *\n",
    "im = TorusExample().render(output_shape = [144,256])\n",
    "im.show()"
   ]
  },
  {
   "cell_type": "code",
   "execution_count": null,
   "id": "092b5e3a",
   "metadata": {},
   "outputs": [],
   "source": [
    "from ExampleSceneDef import *\n",
    "im = EllipsoidExample().render(output_shape = [144,256])\n",
    "im.show()"
   ]
  },
  {
   "cell_type": "code",
   "execution_count": 1,
   "id": "b2b1ff41",
   "metadata": {},
   "outputs": [
    {
     "data": {
      "image/png": "iVBORw0KGgoAAAANSUhEUgAAAOcAAADnCAYAAADl9EEgAAAAOXRFWHRTb2Z0d2FyZQBNYXRwbG90bGliIHZlcnNpb24zLjUuMSwgaHR0cHM6Ly9tYXRwbG90bGliLm9yZy/YYfK9AAAACXBIWXMAAAsTAAALEwEAmpwYAAANmklEQVR4nO3dXW8c133H8d/MPnD5JFGWLFORLKlSXDuwG8cJ4jRIgaRw6160F71JetcX0PfQq76HvoVeFr1oghaJa8MwbMewAyuJLNe26gfZ1hMlUyKX3J2Zc3oxO7s7y5nd4ZP4X/L7AQbL5dLkGtAXZ+bM2ZnAey8A9oQH/QYAFCNOwCjiBIwiTsAo4gSMqo978Z//9TdM5QL77F/+6aWg6PuMnIBRxAkYRZyAUcQJGEWcgFHECRhFnIBRxAkYRZyAUcQJGEWcgFHECRhFnIBRxAkYRZyAUcQJGEWcgFHECRhFnIBRxAkYRZyAUcQJGEWcgFHECRhFnIBRxAkYRZyAUcQJGEWcgFHECRhFnIBRxAkYRZyAUcQJGEWcgFHECRhFnIBRxAkYRZyAUcQJGEWcgFHECRhFnIBRxAkYRZyAUcQJGEWcgFHECRhFnIBRxAkYRZyAUcQJGEWcgFHECRhFnIBRxAkYRZyAUcQJGEWcgFHECRhFnIBRxAkYRZyAUcQJGEWcgFHECRhFnIBRxAkYRZyAUcQJGEWcgFHECRhFnIBRxAkYRZyAUcQJGEWcgFHECRhFnIBRxAkYRZyAUcQJGEWcgFHECRhFnIBRxAkYRZyAUfWDfgPAfglD6btPtTTfCiTFSpJEcZIoimI555UkTpLf1u9ceVDXrfuNfXm/o4gTh1a9Fugn35vXE4+FkjbU7Xa1uZlofT1WFMXqdqNt/86rn83o1v0q2QTb/t2jiBOHQmumrr/9i8uaawWSNiVFCsNIJxad0lEzVhzHiqJ05IzjZEd/5/zpSMfn10pfjxLpnQ/ntdEhTkDzrYaWjrV0+dySFucDSetKA+1Iass5J+ecksT1v3bO7ehvLcw6LcyW/7fdONCxuURhkN9d3uiEcn57wRInpt7LP/62nvmTU2rNRJK6kqLeFkuK5X2sbjfdlc2ON/dLo+b1s+fX5If+hHPS/7y/qJUH28uNODH1Zpo1zbXqSkdKJymR5OS96z9mI2eSJPJ+/+IMAmmmkf/9zklnT0VanMvvSt++31C7U37ChDhxSHhlI2UaZ/q1c0k6SxsnvWPOeF/jLBKG0vOXNrZ8/9X3F9S+0yz974gTh0AW4yDK9Ot8mEniHnmYmWDkcNN76Znzm3ry8W7pf0OcmFq1MFCjUVMtlLIY093aweZc0hs9013bA2pziyCQzjwWj/0Z4sTU+s6l03rpxUtanMt2DWMNTwRJ2fnM9DFddDA9iBNTq9Ws6dTSXO9ZImlG2eiZjpIudxrloHZpd4o4cUiEkk4q/Se9Iufi/gTQbhYdHCQWvuOQCHpbS9IZOTerJEl623TtzmaIE1OpFgYKw6IVNy1Jy704veJ456uBDhq7tZg6S4st/f1ffkcnFmdLf6bZfFK12imtrr6jOO48wne3d4gTU6dRr+nc6WOaaZb/8w3DWUkN1euL8j6Q915J0lGSTE+oxIlDKwhqeuKJF/vP79//UPfuXT3Ad7Q9HHPi0AqCQGFY72+t1kkdP35Z9Xr57rAljJw4MubnlzU3d1rd7kPF8da1rtYQJ6ZGEEh/9eJlnXvimOr1ne70BTp58lklybclSe32ba2ufrx3b3IPESemRhAEOn9mSRe/tbSr3zE7e6r/3HuntbUbuZ9JVxaVL0h/VIgTR9r8/JlcrJLUbt/RrVtvH9A7GiBOHGnZZNGwZnNRCwtne2txvTY27sq57V8MbLeIExgxM7Ok5eUfS/LyPtGNG6+q0/nmkb8P4sRUePrCKT198ZROHt//0yCDD0ann2I5ceIpJclm73m6ra5+rm63/Cp8e4E4MRXOnl7UD589+wj/YhpmEEiLi2d6zwfXJGq37yqKNrb8vKTetYt2jziBQlmMo4/p9vjjT8m5i0PfS193LtLNmx8rjnc/20ucMG2mUdPpkws6vtB6BH/NDz0Ob/nvBYFXozEjqan0igtZuImcq6vVmlcc10t+Z/q191IURWMv00mcMG351IL+8e9eUL32qFaajoY5PDKOfn/0Z5yCQFpePq/RaxmlEWcBp9c2un37ntrt8oX4xAnjAtVqZZ/d3Ct+5OuybTi2okjTUbXsd3mfbelnTJvN8TdEIk6gr2xkHBdr0eiaPw5NJ4iyQAfXNJqZaaher5W+G+IEJJXvrhZPCE1+bXDl+eyynd47xfHgWrpRlIy9SgNxwqRA6RUPlhb3eyKoeMJm77Y0Xu+Hrwboc1sZ4oRJjUZN//A3f6bHT8wrHL1c+p4rm/wpGx2rjJT5n0mSdJTMj5wxIyemTyCp2aip2Sg/JtudKqNk2etFM7hFz11uxMyuOp/eUCkLlpETKDFu8mfSaZSykXNwh7PstMkgyHSL47g3ijJyAgXKTomM270t27a+7n0yFGYyEmXSuyo9IyemSLNR0/xsc5+ONUdjmHSaZFKwoxM/+V3adNInf1uIqreHIE6Y89MfXNTzf7qshbnye1fuzrjAEm0Nctypk/zpkuw157JbD6YjZhQNj5xOcTx5cTxxwpy5mcY+raUtX72zl6dOBqdLBo/Dx5tVb3tPnDhiio4vq5wmKRotiyeEBqdNBseY2XFmFFW/oRJx4gipcnw5aUle2ZZN8AyfLkmGZmfHrwYqQpw4AibtzpadMhkX6eB5dtpk3PnMbDTdDuLEEVF2uqRsMcG4FUCjE0FpmMOnS7LRMr03aCzn/LZveU+cOMRGR8zscdzqn+1v3vuRSaD8CJqGuc0yRZw4EopGxSqTQEVrZZMtj9moObxuNhs1d3PzXuLEIVft9Ef1RQjDK4BGR8mkvztbZe3sJMQJc7wk5316I/kdrxIq23UdHT0nHX8WRTk49kzDTIZmZrPR0+36dvfcAhDmvHnlc/3br67owdpub3Q7LrKi3dpJ5zKHF7bnd2Hj2CmK4t6WvrZbjJww5879th6sddSNd/IPvGjEHH1etOta9jNbJ3+yx/RY0ylJslVAPjcJNPZdemmzGyhOyvcMiBOHVJUVQEUj5bgRMzttMjz5k5426Xbj/gRQ1ePMdz+a0427DX3/+eLX2a2FSYnzuvZ/d/TR5ys7OA2x28mfccebLne6ZPiYM3teVRQH6kblCRInTIoTp/9+6xO99u6ncjuOs2iiZ9Lpk9HX8yNp9mmTwYKD4ee7m50dRZww7e436/r3Vz7QB9fvTPjJcRM/xcvuqoea35UdTATFQxNC1cP8aqWuN/44r5UH4y/BQpwwbX0j0vv/e1Nf3FpVezNSsmW3cXhCZ/j5dnZty6J1/Ymf0VVAo5cdqRKm81InCnTvYV3Xv55RuzM+TiaEMBXeufqlrl6/o5//9bM6e/pYwU+Mm/yZtAJodBVQ9jx93bn8NWezUyZxnKjbjSofEz9sh3rtyoI2OtXGROLEVNjsxOp0Y3369TdKnNO508cV9v+NVxktq46o+VGzeCXQ4DEdWce/d++llQc13XtY18N2TYmrtrCC3VpMDe+l/3rjI/3Hq9cU5c6BTpr8mXQcmh8ph7+XHWtmI2Ucp4sMstGzyqDpvPTOh3N664M5bWfREHFiqnhJD9td/ea31/XH67c1ftldtRGyONhky7FlthIo++B0ld3ZL+829LuPZ7W2WVN6Nd7qyxHZrcXU2diM9OaVL9SNYj19/jGFoVcYbuecZlnMg3OZ2eNgxY/LnTqZ9PlM79MR8+b9uq5+Nruj/0/ixNS69uld3VxZ08t/fkGXzh1XtRVAZSt/8h8BG7563mDyJ+6fSpk0aN57WNPb1+a0vrnzK9YTJ6bW+kak9Y1IX91d02yrJsmp1Qy1tFjv3Sdz0m5t/vv5y434LZNA2TYuTOelB+uh7j2oa2W1Lr+N3dhRxImp9+u3PtMrvZvrPn3huH7x8kWVnyIp29LR07nBDYeiKFtoEPVPm0wSx4Fe//2CVts1TRhcJyJOTL3EeSW9RQC372/orSt3pCA9Dn3u8oLmZwOVL88bHGOm5zTzF+VKjzOrfzbTS4pdIFfxdMk4xIlD5fa9Tf3yjRuSpEY90IXl85prNZXFFwRFI+nWi3TlZ2irXWpkB5cJGos4cWjFidd/vn5bzWYoyeu5yy298Mysij4eli5aH759QtzfqtzXRJKufTGjL+82Kq8AmoQ4cWh5L3369Ub/+YnFQJfONlR0ka56zSkM0omg/JrZ8jCdlzY7QX/S5843dX21snf3dyFOHBnvXWvrD59kseaDe/lH0lNP+v7pkm43mrg7u9EJ9Ov3jqkTpXFG8d7eFY04cWREsVcUF4+Cn92UkiQNzCWhorgul4RjP22yGQVqb4aKxlxqZDeIE5D03rV0S1e0hrKQxsG/A8CU/RkFd4KF74BRxAkYRZyAUcQJGEWcgFHECRhFnIBRxAkYRZyAUcQJGEWcgFHECRhFnIBRxAkYRZyAUcQJGEWcgFHECRhFnIBRxAkYRZyAUcQJGEWcgFHECRhFnIBRxAkYRZyAUcQJGEWcgFHECRhFnIBRxAkYRZyAUcQJGEWcgFHECRhFnIBRxAkYRZyAUcQJGEWcgFHECRhFnIBRxAkYRZyAUcQJGEWcgFHECRhFnIBRxAkYRZyAUcQJGEWcgFHECRhFnIBRxAkYRZyAUcQJGEWcgFGB9/6g3wOAAoycgFHECRhFnIBRxAkYRZyAUcQJGPX/rWpOGVFrtmkAAAAASUVORK5CYII=",
      "text/plain": [
       "<Figure size 432x288 with 1 Axes>"
      ]
     },
     "metadata": {
      "needs_background": "light"
     },
     "output_type": "display_data"
    }
   ],
   "source": [
    "from ExampleSceneDef import *\n",
    "im = CylinderExample().render(output_shape = [128,128])\n",

    "sc = 1\n",
    "im = LebronJamesExample().render(output_shape = [int(sc*128),int(sc*128)])\n",
    "im.show()"
   ]
  },
  {
   "cell_type": "code",
   "execution_count": 2,
   "id": "285638d7",
   "metadata": {},
   "outputs": [],
   "source": [
    "im.writeToFile(\"LebronJamesExample1.png\")"
   ]
  }
 ],
 "metadata": {
  "kernelspec": {
   "display_name": "base",
   "display_name": "venv",
   "language": "python",
   "name": "python3"
  },
  "language_info": {
   "codemirror_mode": {
    "name": "ipython",
    "version": 3
   },
   "file_extension": ".py",
   "mimetype": "text/x-python",
   "name": "python",
   "nbconvert_exporter": "python",
   "pygments_lexer": "ipython3",
  }
 },
 "nbformat": 4,
 "nbformat_minor": 5
}
